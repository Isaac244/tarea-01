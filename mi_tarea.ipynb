{
 "cells": [
  {
   "cell_type": "markdown",
   "id": "11a1624e-52f9-4569-9d00-7a99339738c9",
   "metadata": {},
   "source": [
    "## 1. Calcular el tamaño de la cadena \"Esta es una cadena\" sin usar la función len."
   ]
  },
  {
   "cell_type": "code",
   "execution_count": 1,
   "id": "4301107e-7807-402e-9a23-12b172dadf85",
   "metadata": {},
   "outputs": [],
   "source": [
    "def tamaño_no_len(longitud):\n",
    "    count = 0\n",
    "    for char in longitud:\n",
    "        count += 1\n",
    "    return count"
   ]
  },
  {
   "cell_type": "code",
   "execution_count": 2,
   "id": "c219d0ba-903f-4f37-969a-0dd0ce0bf482",
   "metadata": {},
   "outputs": [
    {
     "data": {
      "text/plain": [
       "18"
      ]
     },
     "execution_count": 2,
     "metadata": {},
     "output_type": "execute_result"
    }
   ],
   "source": [
    "tamaño_no_len(\"Esta es una cadena\")"
   ]
  },
  {
   "cell_type": "markdown",
   "id": "90b4c907-df16-400a-9df5-16691d9b4cf6",
   "metadata": {},
   "source": [
    "## 2. Contar el número de caracteres en la cadena trabajando.pe."
   ]
  },
  {
   "cell_type": "code",
   "execution_count": 3,
   "id": "8b65e4a0-0867-4550-8f26-037780058c53",
   "metadata": {},
   "outputs": [],
   "source": [
    "def contar_caracter(cad):\n",
    "    dir = {}\n",
    "    for n in cad:\n",
    "        keys = dir.keys()\n",
    "        if n in keys:\n",
    "            dir[n] += 1\n",
    "        else:\n",
    "            dir[n] = 1\n",
    "    return dir"
   ]
  },
  {
   "cell_type": "code",
   "execution_count": 4,
   "id": "b86f8a62-6f0e-4b06-9fae-b09b4d18db86",
   "metadata": {},
   "outputs": [
    {
     "data": {
      "text/plain": [
       "{'t': 1,\n",
       " 'r': 1,\n",
       " 'a': 3,\n",
       " 'b': 1,\n",
       " 'j': 1,\n",
       " 'n': 1,\n",
       " 'd': 1,\n",
       " 'o': 1,\n",
       " '.': 1,\n",
       " 'p': 1,\n",
       " 'e': 1}"
      ]
     },
     "execution_count": 4,
     "metadata": {},
     "output_type": "execute_result"
    }
   ],
   "source": [
    "contar_caracter(\"trabajando.pe\")"
   ]
  },
  {
   "cell_type": "markdown",
   "id": "a7bbfc1b-c958-4dd7-8a13-b48581b0dea1",
   "metadata": {},
   "source": [
    "## 3. Eliminar duplicados de la lista ['a', 'b', 'c', 'a', 'c', 'c']."
   ]
  },
  {
   "cell_type": "code",
   "execution_count": 5,
   "id": "0638dc83-8b72-466c-a2a1-0476e5f93dbd",
   "metadata": {},
   "outputs": [
    {
     "name": "stdout",
     "output_type": "stream",
     "text": [
      "['b', 'c', 'a']\n"
     ]
    }
   ],
   "source": [
    "lista = ['a', 'b', 'c', 'a', 'c', 'c']\n",
    "respuesta = set(lista)\n",
    "respuesta_lista = list(respuesta)\n",
    "print(respuesta_lista)"
   ]
  },
  {
   "cell_type": "markdown",
   "id": "4e28e9e6-475b-4d31-bcaa-8a5c6f04a68d",
   "metadata": {},
   "source": [
    "## 4. Imprimir el patrón siguiente, usando bucles:\n",
    "## *\n",
    "## **\n",
    "## ***\n",
    "## ****\n",
    "## *****\n",
    "## ****\n",
    "## ***\n",
    "## **\n",
    "## *\n"
   ]
  },
  {
   "cell_type": "code",
   "execution_count": 6,
   "id": "857ccd07-f266-46c9-b333-713cbfa925c1",
   "metadata": {},
   "outputs": [
    {
     "name": "stdout",
     "output_type": "stream",
     "text": [
      "*\n",
      "**\n",
      "***\n",
      "****\n",
      "*****\n",
      "****\n",
      "***\n",
      "**\n",
      "*\n"
     ]
    }
   ],
   "source": [
    "total_asteriscos = 5\n",
    "\n",
    "for i in range(1, total_asteriscos+1):\n",
    "    for j in range (i):\n",
    "        print('*', end='')\n",
    "    print()\n",
    "\n",
    "for i in range(total_asteriscos-1, 0, -1):\n",
    "    for j in range(i):\n",
    "        print('*', end='')\n",
    "    print()"
   ]
  },
  {
   "cell_type": "markdown",
   "id": "0d80fbe3-990a-4466-8d8f-5c73245993a2",
   "metadata": {},
   "source": [
    "## 5. Escribir una función para determinar si un número es primo o no."
   ]
  },
  {
   "cell_type": "code",
   "execution_count": 8,
   "id": "b9a6f5ff-d819-4703-b3ce-f136d6b1941d",
   "metadata": {},
   "outputs": [],
   "source": [
    "def numero_primo(numero):\n",
    "    if numero == 0:\n",
    "        print(numero, 'Es un valor neutro')\n",
    "        False\n",
    "    elif numero == 1:\n",
    "        print(numero, 'No es un numero primo')\n",
    "        False\n",
    "    else:\n",
    "        for i in range(2, numero):\n",
    "            if (numero % i) == 0:\n",
    "                print(numero, 'No es un numero primo')\n",
    "                return False\n",
    "        print(numero, 'Es un numero primo')\n",
    "        return True"
   ]
  },
  {
   "cell_type": "code",
   "execution_count": 9,
   "id": "23633b2b-6db4-49fe-812b-2ac222fdcca2",
   "metadata": {},
   "outputs": [
    {
     "name": "stdout",
     "output_type": "stream",
     "text": [
      "31 Es un numero primo\n"
     ]
    },
    {
     "data": {
      "text/plain": [
       "True"
      ]
     },
     "execution_count": 9,
     "metadata": {},
     "output_type": "execute_result"
    }
   ],
   "source": [
    "numero_primo(31)"
   ]
  },
  {
   "cell_type": "code",
   "execution_count": null,
   "id": "abf9446c-2fe9-475d-b115-21ba974ce4e8",
   "metadata": {},
   "outputs": [],
   "source": []
  }
 ],
 "metadata": {
  "kernelspec": {
   "display_name": "Python 3 (ipykernel)",
   "language": "python",
   "name": "python3"
  },
  "language_info": {
   "codemirror_mode": {
    "name": "ipython",
    "version": 3
   },
   "file_extension": ".py",
   "mimetype": "text/x-python",
   "name": "python",
   "nbconvert_exporter": "python",
   "pygments_lexer": "ipython3",
   "version": "3.12.0"
  }
 },
 "nbformat": 4,
 "nbformat_minor": 5
}
